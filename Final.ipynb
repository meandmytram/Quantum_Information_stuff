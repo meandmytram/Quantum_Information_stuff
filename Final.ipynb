{
 "cells": [
  {
   "cell_type": "markdown",
   "metadata": {},
   "source": [
    "Consider a TF Ising 1D spin chain with periodic boundary conditions consisting of $n=6$ spins:\n",
    "$$\n",
    "H(h) = \\sum_{\\langle i, j \\rangle}^n Z_i Z_j + h \\sum_{i=1}^n X_i.\n",
    "$$"
   ]
  },
  {
   "cell_type": "code",
   "execution_count": 9,
   "metadata": {},
   "outputs": [],
   "source": [
    "import numpy as np\n",
    "import matplotlib\n",
    "import matplotlib.pyplot as plt\n",
    "import scipy\n",
    "from scipy.linalg import expm\n",
    "import qit\n",
    "from qutip import *"
   ]
  },
  {
   "cell_type": "code",
   "execution_count": 10,
   "metadata": {},
   "outputs": [],
   "source": [
    "# Define 1-qubit Pauli operators\n",
    "\n",
    "I = qit.lmap(np.array([[1, 0], [0, 1]]))\n",
    "X = qit.lmap(np.array([[0, 1], [1, 0]]))\n",
    "Z = qit.lmap(np.array([[1, 0], [0, -1]]))"
   ]
  },
  {
   "cell_type": "code",
   "execution_count": 11,
   "metadata": {},
   "outputs": [],
   "source": [
    "# Define 6-qubit Pauli operators\n",
    "\n",
    "X_1 = qit.tensor(X,I,I,I,I,I)\n",
    "X_2 = qit.tensor(I,X,I,I,I,I)\n",
    "X_3 = qit.tensor(I,I,X,I,I,I)\n",
    "X_4 = qit.tensor(I,I,I,X,I,I)\n",
    "X_5 = qit.tensor(I,I,I,I,X,I)\n",
    "X_6 = qit.tensor(I,I,I,I,I,X)\n",
    "\n",
    "Z_1 = qit.tensor(Z,I,I,I,I,I)\n",
    "Z_2 = qit.tensor(I,Z,I,I,I,I)\n",
    "Z_3 = qit.tensor(I,I,Z,I,I,I)\n",
    "Z_4 = qit.tensor(I,I,I,Z,I,I)\n",
    "Z_5 = qit.tensor(I,I,I,I,Z,I)\n",
    "Z_6 = qit.tensor(I,I,I,I,I,Z)"
   ]
  },
  {
   "cell_type": "code",
   "execution_count": 12,
   "metadata": {},
   "outputs": [],
   "source": [
    "# Define 1-D quantum Ising Hamiltonian on a ring\n",
    "\n",
    "def H(h):\n",
    "    tmp_1 = h * (X_1.data + X_2.data + X_3.data + X_4.data + X_5.data + X_6.data)\n",
    "    tmp_2 = Z_1.data @ Z_2.data\n",
    "    tmp_3 = Z_2.data @ Z_3.data\n",
    "    tmp_4 = Z_3.data @ Z_4.data\n",
    "    tmp_5 = Z_4.data @ Z_5.data\n",
    "    tmp_6 = Z_5.data @ Z_6.data\n",
    "    tmp_7 = Z_6.data @ Z_1.data\n",
    "    return tmp_1 + tmp_2 + tmp_3 + tmp_4 + tmp_5 + tmp_6 + tmp_7"
   ]
  },
  {
   "cell_type": "markdown",
   "metadata": {},
   "source": [
    "Let us split the system into three subsystems which are $A, B, C$.\n",
    "</br> <br>\n",
    "$$\n",
    "A=\\{1,3,5\\}\n",
    "$$\n",
    "$$\n",
    "B=\\{2,4\\}\n",
    "$$\n",
    "$$\n",
    "C=\\{6\\}\n",
    "$$"
   ]
  },
  {
   "cell_type": "markdown",
   "metadata": {},
   "source": [
    "We want to show numerically for $h \\in [-1, 1]$, $\\beta \\in [1, 10]$ that, \n",
    "in a thermal state with inverse temperature $\\beta$\n",
    "$$\n",
    "\\rho = \\frac{e^{-\\beta H}}{\\mathrm{Tr} (e^{-\\beta H})} \\equiv \\rho_{ABC}\n",
    "$$\n",
    "the strong subadditivity of entropy is not violated. That is, plot the quantity\n",
    "$$\n",
    "f = S(AB) + S(BC) - S(ABC) - S(B)\n",
    "$$\n",
    "as a heatmap versus $h$ and $\\beta$, it should be non-negative."
   ]
  },
  {
   "cell_type": "markdown",
   "metadata": {},
   "source": [
    "For our calculations we will need the following matrices:\n",
    "$$\\rho_{AB}=Tr_C(\\rho_{ABC})$$\n",
    "$$\\rho_{BC}=Tr_A(\\rho_{ABC})$$\n",
    "$$\\rho_{B}=Tr_{AC}(\\rho_{ABC})$$"
   ]
  },
  {
   "cell_type": "code",
   "execution_count": 13,
   "metadata": {},
   "outputs": [],
   "source": [
    "# Define thermal state with inverse temperature beta\n",
    "\n",
    "def rho(h, beta):\n",
    "    tmp_1 = scipy.linalg.expm(- beta * H(h))\n",
    "    tmp_2 = np.trace(tmp_1)\n",
    "    return tmp_1 / tmp_2"
   ]
  },
  {
   "cell_type": "code",
   "execution_count": 16,
   "metadata": {},
   "outputs": [],
   "source": [
    "def rho_qutip(h, beta):\n",
    "    return Qobj(rho(h, beta), dims=[[2,2,2,2,2,2],[2,2,2,2,2,2]])"
   ]
  },
  {
   "cell_type": "code",
   "execution_count": 17,
   "metadata": {},
   "outputs": [],
   "source": [
    "def rho_ab(h, beta):\n",
    "    return rho_qutip(h, beta).ptrace([0,1,2,3,4])\n",
    "\n",
    "def rho_bc(h, beta):\n",
    "    return rho_qutip(h, beta).ptrace([1,3,5])\n",
    "\n",
    "def rho_b(h, beta):\n",
    "    return rho_qutip(h, beta).ptrace([1,3])\n",
    "\n",
    "def rho_abc(h, beta):\n",
    "    return rho_qutip(h, beta)"
   ]
  },
  {
   "cell_type": "code",
   "execution_count": 18,
   "metadata": {},
   "outputs": [
    {
     "name": "stdout",
     "output_type": "stream",
     "text": [
      "Wall time: 5h 29min 2s\n"
     ]
    }
   ],
   "source": [
    "%%time\n",
    "h = np.linspace(-1,1,1000)\n",
    "beta = np.linspace(1,10,1000)\n",
    "f = np.zeros((len(h), len(beta)))\n",
    "\n",
    "# f = S(AB) + S(BC) - S(ABC) - S(B)\n",
    "for i in range(len(h)):\n",
    "    for j in range(len(beta)):\n",
    "        f[i,j] = entropy_vn(rho_ab(h[i], beta[j]), base=2.718281828459045, sparse=False) + entropy_vn(rho_bc(h[i], beta[j]), base=2.718281828459045, sparse=False) - entropy_vn(rho_abc(h[i], beta[j]), base=2.718281828459045, sparse=False) - entropy_vn(rho_b(h[i], beta[j]), base=2.718281828459045, sparse=False)"
   ]
  },
  {
   "cell_type": "code",
   "execution_count": 22,
   "metadata": {},
   "outputs": [
    {
     "data": {
      "image/png": "[encoded data removed]",
      "text/plain": [
       "<Figure size 864x432 with 2 Axes>"
      ]
     },
     "metadata": {
      "needs_background": "light"
     },
     "output_type": "display_data"
    }
   ],
   "source": [
    "fig, ax = plt.subplots(figsize=(12, 6))\n",
    "im = ax.imshow(f.T)\n",
    "ax.set_xticks([0,len(h)-1])\n",
    "ax.set_yticks([0,len(beta)-1])\n",
    "ax.set_xticklabels(['-1','1'])\n",
    "ax.set_yticklabels(['10','1'])\n",
    "plt.setp(ax.get_xticklabels(), rotation=0, ha=\"right\",\n",
    "         rotation_mode=\"anchor\")\n",
    "ax.set_title('$f = S(AB) + S(BC) - S(ABC) - S(B)$')\n",
    "fig.tight_layout()\n",
    "cbar = ax.figure.colorbar(im, ax=ax)\n",
    "plt.xlabel('h')\n",
    "plt.ylabel('$β$', rotation=0)\n",
    "plt.show()"
   ]
  },
  {
   "cell_type": "markdown",
   "metadata": {},
   "source": [
    "As we can see, the non-negativity of $f$ is a numerical proof of strong subadditivity of quantum Shannon's entropy."
   ]
  }
 ],
 "metadata": {
  "kernelspec": {
   "display_name": "Python 3",
   "language": "python",
   "name": "python3"
  },
  "language_info": {
   "codemirror_mode": {
    "name": "ipython",
    "version": 3
   },
   "file_extension": ".py",
   "mimetype": "text/x-python",
   "name": "python",
   "nbconvert_exporter": "python",
   "pygments_lexer": "ipython3",
   "version": "3.7.0"
  }
 },
 "nbformat": 4,
 "nbformat_minor": 2
}
